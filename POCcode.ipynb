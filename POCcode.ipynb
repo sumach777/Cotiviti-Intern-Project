{
 "cells": [
  {
   "cell_type": "markdown",
   "id": "05f89cad-2a9a-4c65-82df-20d92d8cd647",
   "metadata": {},
   "source": [
    "Sumedha Chalasani\n",
    "\n",
    "Risk Hazard System to Assess Probability of Violating HIPAA"
   ]
  },
  {
   "cell_type": "code",
   "execution_count": null,
   "id": "a8c69156-ab82-46bc-b3bb-757d8362880a",
   "metadata": {},
   "outputs": [],
   "source": [
    "import pandas as pd\n",
    "\n",
    "fhandle = open('healthcare_dataset.csv','r')\n",
    "fdata = pd.read_csv('healthcare_dataset.csv')\n",
    "\n",
    "#fdata.shape\n",
    "#fdata.isnull()\n",
    "#fdata.dtypes\n",
    "fdata.head()"
   ]
  },
  {
   "cell_type": "code",
   "execution_count": null,
   "id": "b5405853-ad56-4594-b29a-bcb51ee24b5a",
   "metadata": {},
   "outputs": [],
   "source": [
    "import seaborn as sns\n",
    "sns.pairplot(\n",
    "    fdata[[\"Age\", \"Billing Amount\"]],\n",
    "    height = 3)"
   ]
  },
  {
   "cell_type": "code",
   "execution_count": null,
   "id": "3a36a206-505d-4655-9eae-735ad3ba3fc1",
   "metadata": {},
   "outputs": [],
   "source": [
    "import numpy as np\n",
    "bill = []\n",
    "age = []\n",
    "for i in fdata['Billing Amount']:\n",
    "    bill.append(i)\n",
    "for j in fdata['Age']:\n",
    "    age.append(j)\n",
    "myarr = np.empty((6932,2))\n",
    "myarr[:,0] = age\n",
    "myarr[:,1] = bill\n",
    "\n",
    "xvar = myarr[:,0]\n",
    "xvar = xvar.reshape(-1,1)\n",
    "yvar = myarr[:,1]\n",
    "yvar = yvar.reshape(-1,1)\n",
    "\n",
    "from sklearn.model_selection import train_test_split\n",
    "xvar_train, xvar_test, yvar_train, yvar_test = train_test_split(xvar, yvar, train_size = 0.60, random_state = 1)\n",
    "from sklearn.linear_model import LinearRegression\n",
    "lr = LinearRegression()\n",
    "lr.fit(xvar_train, yvar_train)\n",
    "\n",
    "from sklearn.preprocessing import StandardScaler\n",
    "std = StandardScaler()\n",
    "afp = np.append(xvar_train, xvar_test)\n",
    "afp = afp.reshape(-1,1)\n",
    "std.fit(afp)\n",
    "\n",
    "testscore = lr.score(xvar_test, yvar_test)\n",
    "trainscore = lr.score(xvar_train, yvar_train)\n",
    "\n",
    "y_pred = lr.predict(xvar_test)\n",
    "from sklearn.metrics import mean_squared_error\n",
    "import math\n",
    "error = math.sqrt(mean_squared_error(yvar_test, y_pred))\n",
    "modelval = lr.predict(xvar_train[:1])\n",
    "actualval = yvar_train[:1]\n",
    "\n",
    "print(f'The training data score is {trainscore} while the testing data score is {testscore}. The square root of the mean squared error is {error}, meaning the model predicts with a standard deviation of {error}. Therefore, when predicting the first row, the predicted value is {modelval} while the actual first row value is {actualval}.')\n",
    "print(\"\\nThe coefficient of determination for both the training and testing data is low because age and billing amount don't have any correlation in this particular dataset. However, this linear regression model can be used with other datasets to predict billing amount based on age, which can help determine the risk hazard for violating HIPAA.\")"
   ]
  },
  {
   "cell_type": "code",
   "execution_count": null,
   "id": "0a58f8d3-33ff-40c7-a96c-701f1d48fbaa",
   "metadata": {},
   "outputs": [],
   "source": [
    "fhandle1 = open('samplehealthplan.txt','r')\n",
    "insurancelist = []\n",
    "lines = fhandle1.readlines()\n",
    "for line in fdata['Insurance Provider']:\n",
    "    if not line in insurancelist:\n",
    "        insurancelist.append(line)   \n",
    "\n",
    "HIPAA_insurance = []\n",
    "for line in lines:\n",
    "    if line.find(\"not covered under HIPAA\") != -1 or line.find(\"does not pay the cost of healthcare\") != -1:\n",
    "        val = 1\n",
    "    else:\n",
    "        val = 0\n",
    "\n",
    "if val == 1:\n",
    "    for i in insurancelist:\n",
    "        for line in lines:\n",
    "            if i in line and not i in HIPAA_insurance:\n",
    "                HIPAA_insurance.append(i)\n",
    "elif val == 0:\n",
    "    for i in insurancelist:\n",
    "        for line in lines:\n",
    "            if i in line and not i+'(NA)' in HIPAA_insurance:\n",
    "                HIPAA_insurance.append(i+'(NA)')\n",
    "\n",
    "medicarerisk = 0\n",
    "count = 0\n",
    "for j in fdata['Insurance Provider']:\n",
    "    count += 1\n",
    "    if j == \"Medicare\":\n",
    "        ageval = fdata.iloc[count,1]\n",
    "        if ageval > 45:\n",
    "            medicarerisk += 5\n",
    "        else:\n",
    "            medicarerisk += 1\n",
    "        billval = fdata.iloc[count, 9]\n",
    "        if billval > 30000:\n",
    "            medicarerisk += 5\n",
    "        else:\n",
    "            medicarerisk += 1\n",
    "if \"Medicare(NA)\" in HIPAA_insurance:\n",
    "    medicarerisk *= 0.5\n",
    "elif \"Medicare\" in HIPAA_insurance:\n",
    "    medicarerisk *= 2\n",
    "medicarerisk /= 6932\n",
    "print(f'The risk rating for Medicare is {medicarerisk}, calculated with HIPAA applicability, age, and billing amount taken into account.')\n",
    "\n",
    "if medicarerisk > 0.50:\n",
    "    print('The risk rating is higher than average, so transactions and operations regarding patients with Medicare should be monitored carefully in order reduce the probability of violating HIPAA.')"
   ]
  },
  {
   "cell_type": "markdown",
   "id": "b4a31c00-909a-45c5-80f7-5748d33876f3",
   "metadata": {},
   "source": [
    "Sources:\n",
    "https://www.hhs.gov/sites/default/files/ocr/privacy/hipaa/administrative/combined/hipaa-simplification-201303.pdf\n",
    "(list of hipaa guidelines, looking at definition of health care plans specifically (pg 15))\n",
    "\n",
    "https://www.kaggle.com/datasets/prasad22/healthcare-dataset\n",
    "(kaggle dataset)"
   ]
  }
 ],
 "metadata": {
  "kernelspec": {
   "display_name": "Python 3 (ipykernel)",
   "language": "python",
   "name": "python3"
  },
  "language_info": {
   "codemirror_mode": {
    "name": "ipython",
    "version": 3
   },
   "file_extension": ".py",
   "mimetype": "text/x-python",
   "name": "python",
   "nbconvert_exporter": "python",
   "pygments_lexer": "ipython3",
   "version": "3.12.5"
  }
 },
 "nbformat": 4,
 "nbformat_minor": 5
}
